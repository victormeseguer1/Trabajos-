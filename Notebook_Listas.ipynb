{
 "cells": [
  {
   "cell_type": "markdown",
   "metadata": {},
   "source": [
    "# Listas"
   ]
  },
  {
   "cell_type": "markdown",
   "metadata": {},
   "source": [
    "## Ejemplo 01\n",
    "Declaración, impresión de la lista y longitude de la misma"
   ]
  },
  {
   "cell_type": "code",
   "execution_count": 1,
   "metadata": {},
   "outputs": [
    {
     "name": "stdout",
     "output_type": "stream",
     "text": [
      "[5, 7, 'a', 7.35, 8.9]\n"
     ]
    },
    {
     "data": {
      "text/plain": [
       "5"
      ]
     },
     "execution_count": 1,
     "metadata": {},
     "output_type": "execute_result"
    }
   ],
   "source": [
    "A = [5,7,'a',7.35,8.9]\n",
    "print(A)\n",
    "len(A)\n"
   ]
  },
  {
   "cell_type": "markdown",
   "metadata": {},
   "source": [
    "## Ejemplo 02\n",
    "Ingreso a elementos específicos de la lista"
   ]
  },
  {
   "cell_type": "code",
   "execution_count": 2,
   "metadata": {},
   "outputs": [
    {
     "name": "stdout",
     "output_type": "stream",
     "text": [
      "[5, 7, 'a', 7.35, 8.9]\n",
      "5\n",
      "a\n"
     ]
    }
   ],
   "source": [
    "A = [5,7,'a',7.35,8.9]\n",
    "print(A)\n",
    "\n",
    "print(A[0])\n",
    "print(A[2])"
   ]
  },
  {
   "cell_type": "markdown",
   "metadata": {},
   "source": [
    "## Ejemplo 03\n",
    "Modificar un elemento"
   ]
  },
  {
   "cell_type": "code",
   "execution_count": 3,
   "metadata": {},
   "outputs": [
    {
     "name": "stdout",
     "output_type": "stream",
     "text": [
      "[5, 7, 'a', 7.35, 8.9]\n",
      "[5, -5, 'a', 7.35, 8.9]\n"
     ]
    }
   ],
   "source": [
    "A = [5,7,'a',7.35,8.9]\n",
    "print(A)\n",
    "A[1] = -5\n",
    "A[4] \n",
    "3print(A)"
   ]
  },
  {
   "cell_type": "markdown",
   "metadata": {},
   "source": [
    "## Ejemplo 04 - Agregando elementos  - APPEND"
   ]
  },
  {
   "cell_type": "code",
   "execution_count": 5,
   "metadata": {},
   "outputs": [
    {
     "name": "stdout",
     "output_type": "stream",
     "text": [
      "[5, 7, 'a', 7.35, 8.9]\n",
      "[5, 7, 'a', 7.35, 8.9, 'c']\n"
     ]
    }
   ],
   "source": [
    "A = [5,7,'a',7.35,8.9]\n",
    "print(A)\n",
    "A.append('c')\n",
    "print(A)"
   ]
  },
  {
   "cell_type": "markdown",
   "metadata": {},
   "source": [
    "## Ejemplo 05 - Agregando elementos - INSERT"
   ]
  },
  {
   "cell_type": "code",
   "execution_count": 11,
   "metadata": {},
   "outputs": [
    {
     "name": "stdout",
     "output_type": "stream",
     "text": [
      "[5, 7, 'a', 7.35, 8.9]\n",
      "[5, -3.1416, 7, 'a', 7.35, 8.9]\n"
     ]
    }
   ],
   "source": [
    "A = [5,7,'a',7.35,8.9]\n",
    "print(A)\n",
    "A.insert(1,-3.1416)\n",
    "print(A)"
   ]
  },
  {
   "cell_type": "markdown",
   "metadata": {},
   "source": [
    "## Ejemplo 06 - Eliminando elementos - DEL"
   ]
  },
  {
   "cell_type": "code",
   "execution_count": null,
   "metadata": {},
   "outputs": [],
   "source": [
    "A = [5,7,'a',7.35,8.9]\n",
    "print(A)\n",
    "del A[0]\n",
    "print(A)\n",
    "del A[1]\n",
    "print(A)"
   ]
  },
  {
   "cell_type": "markdown",
   "metadata": {},
   "source": [
    "## Ejemplo 07 - Eliminando elementos - REMOVE"
   ]
  },
  {
   "cell_type": "code",
   "execution_count": 9,
   "metadata": {},
   "outputs": [
    {
     "name": "stdout",
     "output_type": "stream",
     "text": [
      "[5, 7, 'a', 7.35, 8.9]\n",
      "[5, 7, 7.35, 8.9]\n"
     ]
    }
   ],
   "source": [
    "A = [5,7,'a',7.35,8.9]\n",
    "print(A)\n",
    "A.remove('a')\n",
    "print(A)\n",
    "A.remove(8.9)"
   ]
  },
  {
   "cell_type": "markdown",
   "metadata": {},
   "source": [
    "## Ejemplo 08 - Eliminando elementos - POP\n"
   ]
  },
  {
   "cell_type": "code",
   "execution_count": 12,
   "metadata": {},
   "outputs": [
    {
     "name": "stdout",
     "output_type": "stream",
     "text": [
      "[5, 7, 'a', 7.35, 8.9]\n",
      "[5, 7, 'a', 7.35]\n",
      "8.9\n",
      "[5, 'a', 7.35]\n",
      "7\n"
     ]
    }
   ],
   "source": [
    "A = [5,7,'a',7.35,8.9]\n",
    "print(A)\n",
    "var1 = A.pop()\n",
    "print(A)\n",
    "print(var1)\n",
    "var2 = A.pop(1)\n",
    "print(A)\n",
    "print(var2)"
   ]
  },
  {
   "cell_type": "code",
   "execution_count": null,
   "metadata": {},
   "outputs": [],
   "source": []
  }
 ],
 "metadata": {
  "kernelspec": {
   "display_name": "Python 3",
   "language": "python",
   "name": "python3"
  },
  "language_info": {
   "codemirror_mode": {
    "name": "ipython",
    "version": 3
   },
   "file_extension": ".py",
   "mimetype": "text/x-python",
   "name": "python",
   "nbconvert_exporter": "python",
   "pygments_lexer": "ipython3",
   "version": "3.8.3"
  }
 },
 "nbformat": 4,
 "nbformat_minor": 4
}
