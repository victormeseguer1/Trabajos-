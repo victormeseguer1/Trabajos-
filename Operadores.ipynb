{
 "cells": [
  {
   "cell_type": "markdown",
   "metadata": {},
   "source": [
    "# Operadores relacionales\n"
   ]
  },
  {
   "cell_type": "markdown",
   "metadata": {},
   "source": [
    "## Menor que"
   ]
  },
  {
   "cell_type": "code",
   "execution_count": 5,
   "metadata": {},
   "outputs": [
    {
     "name": "stdout",
     "output_type": "stream",
     "text": [
      "a < b:  True\n",
      "b < a:  False\n",
      "a < c:  False\n"
     ]
    }
   ],
   "source": [
    "a = 1\n",
    "b = 4\n",
    "c = 1\n",
    "\n",
    "print(\"a < b: \", a < b)\n",
    "print(\"b < a: \", b < a)\n",
    "print(\"a < c: \", a < c)"
   ]
  },
  {
   "cell_type": "markdown",
   "metadata": {},
   "source": [
    "## Menor o igual que"
   ]
  },
  {
   "cell_type": "code",
   "execution_count": 19,
   "metadata": {},
   "outputs": [
    {
     "name": "stdout",
     "output_type": "stream",
     "text": [
      "a <= b:  True\n",
      "b <= a:  False\n",
      "a <= c:  True\n"
     ]
    }
   ],
   "source": [
    "\n",
    "a = 1\n",
    "b = 4\n",
    "c = 1\n",
    "\n",
    "print(\"a <= b: \", a <= b)\n",
    "print(\"b <= a: \", b <= a)\n",
    "print(\"a <= c: \", a <= c)"
   ]
  },
  {
   "cell_type": "markdown",
   "metadata": {},
   "source": [
    "## Igual y Distinto"
   ]
  },
  {
   "cell_type": "code",
   "execution_count": 20,
   "metadata": {},
   "outputs": [
    {
     "ename": "SyntaxError",
     "evalue": "invalid syntax (<ipython-input-20-8ad1030b6611>, line 8)",
     "output_type": "error",
     "traceback": [
      "\u001b[0;36m  File \u001b[0;32m\"<ipython-input-20-8ad1030b6611>\"\u001b[0;36m, line \u001b[0;32m8\u001b[0m\n\u001b[0;31m    print(\"a <> c\", a <> c)\u001b[0m\n\u001b[0m                       ^\u001b[0m\n\u001b[0;31mSyntaxError\u001b[0m\u001b[0;31m:\u001b[0m invalid syntax\n"
     ]
    }
   ],
   "source": [
    "a = 1\n",
    "b = 4\n",
    "c = 1\n",
    "\n",
    "print(\"a == b\", a == b)\n",
    "print(\"a != b\", a != b)\n",
    "print(\"a == c\", a == c )"
   ]
  },
  {
   "cell_type": "markdown",
   "metadata": {},
   "source": [
    "# Operadores Lógicos\n"
   ]
  },
  {
   "cell_type": "markdown",
   "metadata": {},
   "source": [
    "## AND - Y"
   ]
  },
  {
   "cell_type": "code",
   "execution_count": 11,
   "metadata": {},
   "outputs": [
    {
     "name": "stdout",
     "output_type": "stream",
     "text": [
      "a > b and c > d:  False\n",
      "a > b and c < d:  False\n",
      "a < b and c > d:  False\n",
      "a < b and c < d:  True\n"
     ]
    }
   ],
   "source": [
    "a = 1\n",
    "b = 2 \n",
    "c = 5\n",
    "d = 7\n",
    "\n",
    "print(\"a > b and c > d: \",a > b and c > d )\n",
    "print(\"a > b and c < d: \",a > b and c < d )\n",
    "print(\"a < b and c > d: \",a < b and c > d )\n",
    "print(\"a < b and c < d: \",a < b and c < d )"
   ]
  },
  {
   "cell_type": "markdown",
   "metadata": {},
   "source": [
    "## OR - o"
   ]
  },
  {
   "cell_type": "code",
   "execution_count": 13,
   "metadata": {},
   "outputs": [
    {
     "name": "stdout",
     "output_type": "stream",
     "text": [
      "a > b or c > d:  False\n",
      "a > b or c < d:  True\n",
      "a < b or c > d:  True\n",
      "a < b or c < d:  True\n"
     ]
    }
   ],
   "source": [
    "a = 1\n",
    "b = 2 \n",
    "c = 5\n",
    "d = 7\n",
    "\n",
    "print(\"a > b or c > d: \",a > b or c > d )\n",
    "print(\"a > b or c < d: \",a > b or c < d )\n",
    "print(\"a < b or c > d: \",a < b or c > d )\n",
    "print(\"a < b or c < d: \",a < b or c < d )"
   ]
  },
  {
   "cell_type": "markdown",
   "metadata": {},
   "source": [
    "## NOT - Negado"
   ]
  },
  {
   "cell_type": "code",
   "execution_count": 16,
   "metadata": {},
   "outputs": [
    {
     "name": "stdout",
     "output_type": "stream",
     "text": [
      "a:  True    not a:  False\n",
      "b:  False    not b:  True\n"
     ]
    }
   ],
   "source": [
    "a = True\n",
    "b = False\n",
    "\n",
    "\n",
    "\n",
    "print(\"a: \", a, \"   not a: \", not a)\n",
    "print(\"b: \", b, \"   not b: \", not b)\n"
   ]
  },
  {
   "cell_type": "code",
   "execution_count": 18,
   "metadata": {},
   "outputs": [
    {
     "name": "stdout",
     "output_type": "stream",
     "text": [
      "c > d:  False    not(c > d):  True\n",
      "c < d:  True    not(c < d):  False\n"
     ]
    }
   ],
   "source": [
    "c = 3\n",
    "d = 7\n",
    "\n",
    "print(\"c > d: \", c > d, \"   not(c > d): \", not(c > d))\n",
    "print(\"c < d: \", c < d, \"   not(c < d): \", not(c < d))"
   ]
  },
  {
   "cell_type": "code",
   "execution_count": null,
   "metadata": {},
   "outputs": [],
   "source": []
  }
 ],
 "metadata": {
  "kernelspec": {
   "display_name": "Python 3",
   "language": "python",
   "name": "python3"
  },
  "language_info": {
   "codemirror_mode": {
    "name": "ipython",
    "version": 3
   },
   "file_extension": ".py",
   "mimetype": "text/x-python",
   "name": "python",
   "nbconvert_exporter": "python",
   "pygments_lexer": "ipython3",
   "version": "3.8.5"
  }
 },
 "nbformat": 4,
 "nbformat_minor": 4
}
