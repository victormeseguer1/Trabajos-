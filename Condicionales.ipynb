{
 "cells": [
  {
   "cell_type": "markdown",
   "metadata": {},
   "source": [
    "# Condicionales"
   ]
  },
  {
   "cell_type": "markdown",
   "metadata": {},
   "source": [
    "## Condicionales Simples  `if`"
   ]
  },
  {
   "cell_type": "code",
   "execution_count": null,
   "metadata": {},
   "outputs": [],
   "source": [
    "cal = float(input(\"Introduzca la calificacion:\"))\n",
    "if cal < 6:\n",
    "\tprint(\"Reprobado\");\n",
    "\tprint(\"Necesitas esforzarte más\")\n",
    "\n",
    "print(\"Fin del programa\")\n"
   ]
  },
  {
   "cell_type": "markdown",
   "metadata": {},
   "source": [
    "## Condicionales `if-else`"
   ]
  },
  {
   "cell_type": "code",
   "execution_count": null,
   "metadata": {},
   "outputs": [],
   "source": [
    "cal = float(input(\"Introduce una calificación:\"))\n",
    "\n",
    "if cal < 6:\n",
    "\tprint(\"Reprobado\")\n",
    "else:\n",
    "\tprint(\"Aprobado\")\n",
    "\n",
    "print(\"Fin del programa\")\n"
   ]
  },
  {
   "cell_type": "markdown",
   "metadata": {},
   "source": [
    "## Condicionales Anidados `elif` "
   ]
  },
  {
   "cell_type": "code",
   "execution_count": null,
   "metadata": {},
   "outputs": [],
   "source": [
    "\n",
    "cal = float(input(\"Introduce una calificación: \"))\n",
    "if cal < 6:\n",
    "\tprint(\"Reprobado\")\n",
    "elif cal >= 8.5:\n",
    "\tprint(\"Felicidades has aprobado\")\n",
    "else:\n",
    "\tprint(\"Aprobado\")"
   ]
  },
  {
   "cell_type": "markdown",
   "metadata": {},
   "source": [
    "## Múltiples condiciones en un `if`"
   ]
  },
  {
   "cell_type": "code",
   "execution_count": null,
   "metadata": {},
   "outputs": [],
   "source": [
    "a = input(\"presiona una tecla: \")\n",
    "\n",
    "if a=='a' or a=='e' or a=='i' or a=='o' or a=='u':\n",
    "\tprint(\"Es una vocal\")\n",
    "else:\n",
    "\tprint(\"No es una vocal \")\n"
   ]
  }
 ],
 "metadata": {
  "kernelspec": {
   "display_name": "Python 3",
   "language": "python",
   "name": "python3"
  },
  "language_info": {
   "codemirror_mode": {
    "name": "ipython",
    "version": 3
   },
   "file_extension": ".py",
   "mimetype": "text/x-python",
   "name": "python",
   "nbconvert_exporter": "python",
   "pygments_lexer": "ipython3",
   "version": "3.8.5"
  }
 },
 "nbformat": 4,
 "nbformat_minor": 4
}
